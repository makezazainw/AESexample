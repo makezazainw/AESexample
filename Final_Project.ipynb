{
  "nbformat": 4,
  "nbformat_minor": 0,
  "metadata": {
    "colab": {
      "name": "Final Project.ipynb",
      "provenance": [],
      "collapsed_sections": [],
      "authorship_tag": "ABX9TyP8IzfpbUZjve7NlbPMy7xp",
      "include_colab_link": true
    },
    "kernelspec": {
      "name": "python3",
      "display_name": "Python 3"
    },
    "accelerator": "GPU"
  },
  "cells": [
    {
      "cell_type": "markdown",
      "metadata": {
        "id": "view-in-github",
        "colab_type": "text"
      },
      "source": [
        "<a href=\"https://colab.research.google.com/github/makezazainw/AESexample/blob/master/Final_Project.ipynb\" target=\"_parent\"><img src=\"https://colab.research.google.com/assets/colab-badge.svg\" alt=\"Open In Colab\"/></a>"
      ]
    },
    {
      "cell_type": "markdown",
      "metadata": {
        "id": "4jaYQfJe6UPZ"
      },
      "source": [
        "**Upload file if you want**"
      ]
    },
    {
      "cell_type": "code",
      "metadata": {
        "id": "-x9CVU9IgkU_"
      },
      "source": [
        "from google.colab import files\n",
        "pbfile = files.upload()"
      ],
      "execution_count": null,
      "outputs": []
    },
    {
      "cell_type": "markdown",
      "metadata": {
        "id": "HYtRYzbH6j8i"
      },
      "source": [
        "**Install Kaggle**"
      ]
    },
    {
      "cell_type": "code",
      "metadata": {
        "id": "A1xFzv82hg55",
        "outputId": "e7f7f844-93a3-4ffb-8fb1-bd1810728305",
        "colab": {
          "base_uri": "https://localhost:8080/",
          "height": 134
        }
      },
      "source": [
        "# Install Kaggle API\n",
        "!pip install -q kaggle\n",
        "!pip install -q kaggle-cli"
      ],
      "execution_count": 1,
      "outputs": [
        {
          "output_type": "stream",
          "text": [
            "\u001b[K     |████████████████████████████████| 81kB 2.5MB/s \n",
            "\u001b[K     |████████████████████████████████| 5.3MB 4.5MB/s \n",
            "\u001b[K     |████████████████████████████████| 51kB 6.5MB/s \n",
            "\u001b[K     |████████████████████████████████| 112kB 40.5MB/s \n",
            "\u001b[K     |████████████████████████████████| 143kB 42.5MB/s \n",
            "\u001b[?25h  Building wheel for kaggle-cli (setup.py) ... \u001b[?25l\u001b[?25hdone\n",
            "  Building wheel for pyperclip (setup.py) ... \u001b[?25l\u001b[?25hdone\n"
          ],
          "name": "stdout"
        }
      ]
    },
    {
      "cell_type": "markdown",
      "metadata": {
        "id": "cV3qDwDx6p79"
      },
      "source": [
        "**Call file from Json for use Kaggle Dataset**\n",
        "\n"
      ]
    },
    {
      "cell_type": "code",
      "metadata": {
        "id": "pYMNgAl6hg8S"
      },
      "source": [
        "# only for google colab\n",
        "import os\n",
        "os.environ['KAGGLE_USERNAME'] = \"thammatattantipitham\" \n",
        "os.environ['KAGGLE_KEY'] = \"3cf826ab97707228fb1602519992740b\""
      ],
      "execution_count": 2,
      "outputs": []
    },
    {
      "cell_type": "code",
      "metadata": {
        "id": "q7lFIo5lhg-r",
        "outputId": "201fd228-024b-4e33-f8ce-c748eab75888",
        "colab": {
          "base_uri": "https://localhost:8080/",
          "height": 67
        }
      },
      "source": [
        "!kaggle datasets download -d thammatattantipitham/originalthaiherb --unzip"
      ],
      "execution_count": 3,
      "outputs": [
        {
          "output_type": "stream",
          "text": [
            "Downloading originalthaiherb.zip to /content\n",
            " 87% 13.0M/15.0M [00:01<00:00, 5.54MB/s]\n",
            "100% 15.0M/15.0M [00:01<00:00, 10.7MB/s]\n"
          ],
          "name": "stdout"
        }
      ]
    },
    {
      "cell_type": "markdown",
      "metadata": {
        "id": "b2ZbQ75H7EtT"
      },
      "source": [
        "**Move to Directory thai-herb**"
      ]
    },
    {
      "cell_type": "code",
      "metadata": {
        "id": "JqgFPbWBhhBI"
      },
      "source": [
        "!mkdir originalthaiherb\n",
        "!mv  \"train\" \"val\" originalthaiherb"
      ],
      "execution_count": 4,
      "outputs": []
    },
    {
      "cell_type": "markdown",
      "metadata": {
        "id": "XcdGYThk7LhC"
      },
      "source": [
        "**Start**"
      ]
    },
    {
      "cell_type": "code",
      "metadata": {
        "id": "wep6meUChhDQ",
        "outputId": "dfd6b299-a68e-40a8-b088-ca8c4e2089c6",
        "colab": {
          "base_uri": "https://localhost:8080/",
          "height": 35
        }
      },
      "source": [
        "import sys\n",
        "import time\n",
        "import cv2\n",
        "import numpy as np\n",
        "from matplotlib import pyplot as plt\n",
        "import tensorflow as tf\n",
        "import os\n",
        "import keras\n",
        "\n",
        "from skimage.transform import resize\n",
        "from sklearn.model_selection import train_test_split\n",
        "\n",
        "from tensorflow.python.keras.utils import np_utils\n",
        "from tensorflow.python.keras.models import Sequential, Model\n",
        "from tensorflow.python.keras.layers import Dense, Dropout, Flatten, Activation, BatchNormalization\n",
        "from tensorflow.python.keras.layers.convolutional import Conv2D, MaxPooling2D, AveragePooling2D\n",
        "from tensorflow.python.keras.preprocessing.image import ImageDataGenerator\n",
        "from tensorflow.python.keras.optimizers import RMSprop\n",
        "from tensorflow.python.keras.applications.vgg19 import VGG19\n",
        "from tensorflow.keras.applications.resnet50 import ResNet50, preprocess_input\n",
        "from tensorflow.keras.optimizers import Adam\n",
        "from keras.applications import InceptionV3\n",
        "sys.version"
      ],
      "execution_count": 5,
      "outputs": [
        {
          "output_type": "execute_result",
          "data": {
            "application/vnd.google.colaboratory.intrinsic+json": {
              "type": "string"
            },
            "text/plain": [
              "'3.6.9 (default, Jul 17 2020, 12:50:27) \\n[GCC 8.4.0]'"
            ]
          },
          "metadata": {
            "tags": []
          },
          "execution_count": 5
        }
      ]
    },
    {
      "cell_type": "code",
      "metadata": {
        "id": "oPHYCQQGkqox",
        "outputId": "04e462cc-7c65-4959-f6ea-31cefcedebc9",
        "colab": {
          "base_uri": "https://localhost:8080/",
          "height": 101
        }
      },
      "source": [
        "from tensorflow.compat.v1.keras.backend import set_session\n",
        "\n",
        "config = tf.compat.v1.ConfigProto()\n",
        "\n",
        "config.gpu_options.allow_growth = True  # dynamically grow the memory used on the GPU\n",
        "\n",
        "config.log_device_placement = True  # to log device placement (on which device the operation ran)\n",
        "\n",
        "sess = tf.compat.v1.Session(config=config)\n",
        "\n",
        "set_session(sess)"
      ],
      "execution_count": 6,
      "outputs": [
        {
          "output_type": "stream",
          "text": [
            "Device mapping:\n",
            "/job:localhost/replica:0/task:0/device:XLA_CPU:0 -> device: XLA_CPU device\n",
            "/job:localhost/replica:0/task:0/device:XLA_GPU:0 -> device: XLA_GPU device\n",
            "/job:localhost/replica:0/task:0/device:GPU:0 -> device: 0, name: Tesla K80, pci bus id: 0000:00:04.0, compute capability: 3.7\n",
            "\n"
          ],
          "name": "stdout"
        }
      ]
    },
    {
      "cell_type": "code",
      "metadata": {
        "id": "8j7CwOUNkqsX"
      },
      "source": [
        "DATASET_PATH  = 'originalthaiherb/'\n",
        "IMAGE_SIZE    = (32, 32)\n",
        "NUM_CLASSES   = 10\n",
        "BATCH_SIZE    = 32  # try reducing batch size or freeze more layers if your GPU runs out of memory\n",
        "epochs    = 200\n",
        "WEIGHTS_FINAL = 'save_model/model-resnet50-final.h5'"
      ],
      "execution_count": 8,
      "outputs": []
    },
    {
      "cell_type": "code",
      "metadata": {
        "id": "Lwe4FTL7kq4X"
      },
      "source": [
        "#ทำ aug มาเเล้ว\n",
        "train_datagen = ImageDataGenerator(preprocessing_function=preprocess_input)"
      ],
      "execution_count": 9,
      "outputs": []
    },
    {
      "cell_type": "code",
      "metadata": {
        "id": "7HDQWIrlkq6-",
        "outputId": "ba2fc677-b91c-4311-b2da-5e27bdc26f62",
        "colab": {
          "base_uri": "https://localhost:8080/",
          "height": 34
        }
      },
      "source": [
        "#set training data\n",
        "train_generator = train_datagen.flow_from_directory(DATASET_PATH+ r\"train/\",\n",
        "                                                    target_size = IMAGE_SIZE,\n",
        "                                                    batch_size = BATCH_SIZE,\n",
        "                                                    class_mode='categorical',\n",
        "                                                    shuffle = True,\n",
        "                                                    subset='training')"
      ],
      "execution_count": 10,
      "outputs": [
        {
          "output_type": "stream",
          "text": [
            "Found 1600 images belonging to 10 classes.\n"
          ],
          "name": "stdout"
        }
      ]
    },
    {
      "cell_type": "code",
      "metadata": {
        "id": "UANhQsw0kq8t",
        "outputId": "1190bb59-01eb-4997-8466-34efcb3cbec8",
        "colab": {
          "base_uri": "https://localhost:8080/",
          "height": 34
        }
      },
      "source": [
        "valid_datagen = ImageDataGenerator(preprocessing_function=preprocess_input)\n",
        "valid_generator = valid_datagen.flow_from_directory(DATASET_PATH+ r\"val/\",                                      \n",
        "                                                    target_size = IMAGE_SIZE,\n",
        "                                                    batch_size = 1,\n",
        "                                                    class_mode='categorical',\n",
        "                                                    shuffle = True\n",
        "                                                    )"
      ],
      "execution_count": 11,
      "outputs": [
        {
          "output_type": "stream",
          "text": [
            "Found 410 images belonging to 10 classes.\n"
          ],
          "name": "stdout"
        }
      ]
    },
    {
      "cell_type": "code",
      "metadata": {
        "id": "RGHJtcyP4_LK",
        "outputId": "c6b5d3c8-4c6b-4645-900d-3de0cb067ce7",
        "colab": {
          "base_uri": "https://localhost:8080/",
          "height": 67
        }
      },
      "source": [
        "# Include the epoch in the file name (uses `str.format`)\n",
        "checkpoint_path = \"training_2/cp-{epoch:04d}.ckpt\"\n",
        "checkpoint_dir = os.path.dirname(checkpoint_path)\n",
        "\n",
        "# Create a callback that saves the model's weights every 5 epochs\n",
        "cp_callback = tf.keras.callbacks.ModelCheckpoint(\n",
        "    filepath=checkpoint_path, \n",
        "    verbose=1, \n",
        "    save_weights_only=True,\n",
        "    period=100)\n",
        "\n",
        "#Create the model\n",
        "base_model_resnet = ResNet50(include_top=False,weights='imagenet',input_shape=(IMAGE_SIZE[0],IMAGE_SIZE[1],3),classes=valid_generator)\n",
        "#Defining and Adding layers\n",
        "model_resnet= Sequential()\n",
        "#Add the Dense layers along with activation and batch normalization\n",
        "model_resnet.add(base_model_resnet)\n",
        "model_resnet.add(Flatten())\n",
        "\n",
        "#Add the Dense layers along with activation and batch normalization\n",
        "model_resnet.add(Dense(1024,activation=('relu'),input_dim=64))\n",
        "model_resnet.add(Dense(512,activation=('relu'))) \n",
        "model_resnet.add(Dropout(.4))\n",
        "model_resnet.add(Dense(256,activation=('relu'))) \n",
        "model_resnet.add(Dropout(.3))#Adding a dropout layer that will randomly drop 30% of the weights\n",
        "model_resnet.add(Dense(128,activation=('relu')))\n",
        "model_resnet.add(Dropout(.2))\n",
        "model_resnet.add(Dense(10,activation=('softmax'))) #This is the classification layer\n",
        "\n",
        "\n",
        "# Save the weights using the `checkpoint_path` format\n",
        "model_resnet.save_weights(checkpoint_path.format(epoch=0))"
      ],
      "execution_count": 12,
      "outputs": [
        {
          "output_type": "stream",
          "text": [
            "WARNING:tensorflow:`period` argument is deprecated. Please use `save_freq` to specify the frequency in number of batches seen.\n",
            "Downloading data from https://storage.googleapis.com/tensorflow/keras-applications/resnet/resnet50_weights_tf_dim_ordering_tf_kernels_notop.h5\n",
            "94773248/94765736 [==============================] - 1s 0us/step\n"
          ],
          "name": "stdout"
        }
      ]
    },
    {
      "cell_type": "code",
      "metadata": {
        "id": "1JJLrZTk5YE1",
        "outputId": "1d716f07-4682-4ad9-b4a1-f1b6588502f6",
        "colab": {
          "base_uri": "https://localhost:8080/",
          "height": 487
        }
      },
      "source": [
        "#Model summary\n",
        "model_resnet.summary()"
      ],
      "execution_count": 13,
      "outputs": [
        {
          "output_type": "stream",
          "text": [
            "Model: \"sequential\"\n",
            "_________________________________________________________________\n",
            "Layer (type)                 Output Shape              Param #   \n",
            "=================================================================\n",
            "resnet50 (Functional)        (None, 1, 1, 2048)        23587712  \n",
            "_________________________________________________________________\n",
            "flatten (Flatten)            (None, 2048)              0         \n",
            "_________________________________________________________________\n",
            "dense (Dense)                (None, 1024)              2098176   \n",
            "_________________________________________________________________\n",
            "dense_1 (Dense)              (None, 512)               524800    \n",
            "_________________________________________________________________\n",
            "dropout (Dropout)            (None, 512)               0         \n",
            "_________________________________________________________________\n",
            "dense_2 (Dense)              (None, 256)               131328    \n",
            "_________________________________________________________________\n",
            "dropout_1 (Dropout)          (None, 256)               0         \n",
            "_________________________________________________________________\n",
            "dense_3 (Dense)              (None, 128)               32896     \n",
            "_________________________________________________________________\n",
            "dropout_2 (Dropout)          (None, 128)               0         \n",
            "_________________________________________________________________\n",
            "dense_4 (Dense)              (None, 10)                1290      \n",
            "=================================================================\n",
            "Total params: 26,376,202\n",
            "Trainable params: 26,323,082\n",
            "Non-trainable params: 53,120\n",
            "_________________________________________________________________\n"
          ],
          "name": "stdout"
        }
      ]
    },
    {
      "cell_type": "code",
      "metadata": {
        "id": "aj6FKOPJpXGF"
      },
      "source": [
        "model_resnet.compile(optimizer=Adam(lr=0.0001),  #Adam(lr=1e-5)\n",
        "                  loss='categorical_crossentropy', metrics=['accuracy'])"
      ],
      "execution_count": 14,
      "outputs": []
    },
    {
      "cell_type": "code",
      "metadata": {
        "id": "2GJHAmk4nuDr",
        "outputId": "a3602a5e-3396-469c-c037-6133c606315d",
        "colab": {
          "base_uri": "https://localhost:8080/",
          "height": 1000
        }
      },
      "source": [
        "#start to train the model\n",
        "start = time.time()\n",
        "model_resnet.fit_generator(generator=train_generator, epochs=epochs, steps_per_epoch=train_generator.samples//BATCH_SIZE, validation_data=valid_generator,validation_steps=valid_generator.samples,callbacks=[cp_callback],verbose=1)\n",
        "\n",
        "end = time.time()\n",
        "duration = end - start\n",
        "print ('\\n model_ResNet50 took %0.2f seconds (%0.1f minutes) to train for %d epochs'%(duration, duration/60, epochs) )"
      ],
      "execution_count": 15,
      "outputs": [
        {
          "output_type": "stream",
          "text": [
            "WARNING:tensorflow:From <ipython-input-15-07dd3ec8037d>:3: Model.fit_generator (from tensorflow.python.keras.engine.training) is deprecated and will be removed in a future version.\n",
            "Instructions for updating:\n",
            "Please use Model.fit, which supports generators.\n",
            "Epoch 1/200\n",
            "50/50 [==============================] - 13s 267ms/step - loss: 2.4085 - accuracy: 0.1587 - val_loss: 2.1775 - val_accuracy: 0.2439\n",
            "Epoch 2/200\n",
            "50/50 [==============================] - 12s 244ms/step - loss: 1.8551 - accuracy: 0.3481 - val_loss: 1.8961 - val_accuracy: 0.4073\n",
            "Epoch 3/200\n",
            "50/50 [==============================] - 12s 237ms/step - loss: 1.4374 - accuracy: 0.5163 - val_loss: 1.4441 - val_accuracy: 0.5976\n",
            "Epoch 4/200\n",
            "50/50 [==============================] - 12s 240ms/step - loss: 1.0679 - accuracy: 0.6637 - val_loss: 1.0328 - val_accuracy: 0.7463\n",
            "Epoch 5/200\n",
            "50/50 [==============================] - 12s 241ms/step - loss: 0.8167 - accuracy: 0.7337 - val_loss: 0.6665 - val_accuracy: 0.8244\n",
            "Epoch 6/200\n",
            "50/50 [==============================] - 12s 241ms/step - loss: 0.6178 - accuracy: 0.7994 - val_loss: 0.4754 - val_accuracy: 0.8707\n",
            "Epoch 7/200\n",
            "50/50 [==============================] - 12s 239ms/step - loss: 0.5032 - accuracy: 0.8469 - val_loss: 0.4445 - val_accuracy: 0.8683\n",
            "Epoch 8/200\n",
            "50/50 [==============================] - 12s 243ms/step - loss: 0.3789 - accuracy: 0.8894 - val_loss: 0.3793 - val_accuracy: 0.8780\n",
            "Epoch 9/200\n",
            "50/50 [==============================] - 12s 240ms/step - loss: 0.3358 - accuracy: 0.9056 - val_loss: 0.4524 - val_accuracy: 0.8756\n",
            "Epoch 10/200\n",
            "50/50 [==============================] - 12s 244ms/step - loss: 0.3864 - accuracy: 0.8900 - val_loss: 0.4148 - val_accuracy: 0.8878\n",
            "Epoch 11/200\n",
            "50/50 [==============================] - 12s 242ms/step - loss: 0.2779 - accuracy: 0.9269 - val_loss: 0.3938 - val_accuracy: 0.9098\n",
            "Epoch 12/200\n",
            "50/50 [==============================] - 12s 245ms/step - loss: 0.2237 - accuracy: 0.9369 - val_loss: 0.3561 - val_accuracy: 0.9073\n",
            "Epoch 13/200\n",
            "50/50 [==============================] - 12s 241ms/step - loss: 0.1884 - accuracy: 0.9475 - val_loss: 0.3240 - val_accuracy: 0.9122\n",
            "Epoch 14/200\n",
            "50/50 [==============================] - 12s 239ms/step - loss: 0.2286 - accuracy: 0.9406 - val_loss: 0.3652 - val_accuracy: 0.9024\n",
            "Epoch 15/200\n",
            "50/50 [==============================] - 12s 241ms/step - loss: 0.1937 - accuracy: 0.9463 - val_loss: 0.2618 - val_accuracy: 0.9122\n",
            "Epoch 16/200\n",
            "50/50 [==============================] - 12s 239ms/step - loss: 0.1723 - accuracy: 0.9494 - val_loss: 0.3411 - val_accuracy: 0.9195\n",
            "Epoch 17/200\n",
            "50/50 [==============================] - 12s 239ms/step - loss: 0.1778 - accuracy: 0.9513 - val_loss: 0.2563 - val_accuracy: 0.9268\n",
            "Epoch 18/200\n",
            "50/50 [==============================] - 12s 240ms/step - loss: 0.1009 - accuracy: 0.9750 - val_loss: 0.2559 - val_accuracy: 0.9366\n",
            "Epoch 19/200\n",
            "50/50 [==============================] - 12s 246ms/step - loss: 0.1335 - accuracy: 0.9638 - val_loss: 0.2108 - val_accuracy: 0.9390\n",
            "Epoch 20/200\n",
            "50/50 [==============================] - 12s 248ms/step - loss: 0.1302 - accuracy: 0.9644 - val_loss: 0.2538 - val_accuracy: 0.9244\n",
            "Epoch 21/200\n",
            "50/50 [==============================] - 12s 249ms/step - loss: 0.1016 - accuracy: 0.9731 - val_loss: 0.2519 - val_accuracy: 0.9366\n",
            "Epoch 22/200\n",
            "50/50 [==============================] - 12s 247ms/step - loss: 0.0940 - accuracy: 0.9756 - val_loss: 0.2559 - val_accuracy: 0.9293\n",
            "Epoch 23/200\n",
            "50/50 [==============================] - 12s 238ms/step - loss: 0.0759 - accuracy: 0.9812 - val_loss: 0.2542 - val_accuracy: 0.9390\n",
            "Epoch 24/200\n",
            "50/50 [==============================] - 12s 239ms/step - loss: 0.1013 - accuracy: 0.9756 - val_loss: 0.1963 - val_accuracy: 0.9317\n",
            "Epoch 25/200\n",
            "50/50 [==============================] - 12s 238ms/step - loss: 0.1277 - accuracy: 0.9744 - val_loss: 0.2462 - val_accuracy: 0.9390\n",
            "Epoch 26/200\n",
            "50/50 [==============================] - 12s 242ms/step - loss: 0.1297 - accuracy: 0.9719 - val_loss: 0.3473 - val_accuracy: 0.9268\n",
            "Epoch 27/200\n",
            "50/50 [==============================] - 12s 242ms/step - loss: 0.1176 - accuracy: 0.9712 - val_loss: 0.2604 - val_accuracy: 0.9366\n",
            "Epoch 28/200\n",
            "50/50 [==============================] - 12s 241ms/step - loss: 0.0760 - accuracy: 0.9781 - val_loss: 0.3393 - val_accuracy: 0.9195\n",
            "Epoch 29/200\n",
            "50/50 [==============================] - 12s 239ms/step - loss: 0.1049 - accuracy: 0.9794 - val_loss: 0.3915 - val_accuracy: 0.9049\n",
            "Epoch 30/200\n",
            "50/50 [==============================] - 12s 239ms/step - loss: 0.0712 - accuracy: 0.9812 - val_loss: 0.2836 - val_accuracy: 0.9366\n",
            "Epoch 31/200\n",
            "50/50 [==============================] - 12s 236ms/step - loss: 0.0901 - accuracy: 0.9800 - val_loss: 0.2289 - val_accuracy: 0.9415\n",
            "Epoch 32/200\n",
            "50/50 [==============================] - 12s 239ms/step - loss: 0.0781 - accuracy: 0.9844 - val_loss: 0.2324 - val_accuracy: 0.9463\n",
            "Epoch 33/200\n",
            "50/50 [==============================] - 12s 239ms/step - loss: 0.0873 - accuracy: 0.9731 - val_loss: 0.2143 - val_accuracy: 0.9415\n",
            "Epoch 34/200\n",
            "50/50 [==============================] - 12s 239ms/step - loss: 0.0889 - accuracy: 0.9794 - val_loss: 0.1703 - val_accuracy: 0.9512\n",
            "Epoch 35/200\n",
            "50/50 [==============================] - 12s 237ms/step - loss: 0.0518 - accuracy: 0.9862 - val_loss: 0.2032 - val_accuracy: 0.9463\n",
            "Epoch 36/200\n",
            "50/50 [==============================] - 12s 239ms/step - loss: 0.0535 - accuracy: 0.9875 - val_loss: 0.1833 - val_accuracy: 0.9585\n",
            "Epoch 37/200\n",
            "50/50 [==============================] - 12s 239ms/step - loss: 0.0402 - accuracy: 0.9900 - val_loss: 0.1986 - val_accuracy: 0.9537\n",
            "Epoch 38/200\n",
            "50/50 [==============================] - 12s 240ms/step - loss: 0.0315 - accuracy: 0.9912 - val_loss: 0.2164 - val_accuracy: 0.9463\n",
            "Epoch 39/200\n",
            "50/50 [==============================] - 12s 237ms/step - loss: 0.0594 - accuracy: 0.9869 - val_loss: 0.1632 - val_accuracy: 0.9512\n",
            "Epoch 40/200\n",
            "50/50 [==============================] - 12s 240ms/step - loss: 0.0611 - accuracy: 0.9850 - val_loss: 0.3099 - val_accuracy: 0.9390\n",
            "Epoch 41/200\n",
            "50/50 [==============================] - 12s 239ms/step - loss: 0.0557 - accuracy: 0.9856 - val_loss: 0.2533 - val_accuracy: 0.9463\n",
            "Epoch 42/200\n",
            "50/50 [==============================] - 12s 238ms/step - loss: 0.0604 - accuracy: 0.9844 - val_loss: 0.3006 - val_accuracy: 0.9390\n",
            "Epoch 43/200\n",
            "50/50 [==============================] - 12s 237ms/step - loss: 0.1067 - accuracy: 0.9787 - val_loss: 0.4714 - val_accuracy: 0.9195\n",
            "Epoch 44/200\n",
            "50/50 [==============================] - 12s 246ms/step - loss: 0.0525 - accuracy: 0.9869 - val_loss: 0.2883 - val_accuracy: 0.9317\n",
            "Epoch 45/200\n",
            "50/50 [==============================] - 12s 248ms/step - loss: 0.0623 - accuracy: 0.9850 - val_loss: 0.2614 - val_accuracy: 0.9268\n",
            "Epoch 46/200\n",
            "50/50 [==============================] - 12s 247ms/step - loss: 0.0897 - accuracy: 0.9806 - val_loss: 0.3379 - val_accuracy: 0.9341\n",
            "Epoch 47/200\n",
            "50/50 [==============================] - 12s 246ms/step - loss: 0.0455 - accuracy: 0.9906 - val_loss: 0.2448 - val_accuracy: 0.9439\n",
            "Epoch 48/200\n",
            "50/50 [==============================] - 12s 242ms/step - loss: 0.0443 - accuracy: 0.9906 - val_loss: 0.2518 - val_accuracy: 0.9366\n",
            "Epoch 49/200\n",
            "50/50 [==============================] - 12s 240ms/step - loss: 0.0471 - accuracy: 0.9912 - val_loss: 0.2715 - val_accuracy: 0.9415\n",
            "Epoch 50/200\n",
            "50/50 [==============================] - 12s 239ms/step - loss: 0.0641 - accuracy: 0.9856 - val_loss: 0.2478 - val_accuracy: 0.9293\n",
            "Epoch 51/200\n",
            "50/50 [==============================] - 12s 238ms/step - loss: 0.0846 - accuracy: 0.9837 - val_loss: 0.2519 - val_accuracy: 0.9293\n",
            "Epoch 52/200\n",
            "50/50 [==============================] - 12s 240ms/step - loss: 0.0423 - accuracy: 0.9894 - val_loss: 0.2186 - val_accuracy: 0.9463\n",
            "Epoch 53/200\n",
            "50/50 [==============================] - 12s 247ms/step - loss: 0.0643 - accuracy: 0.9875 - val_loss: 0.2214 - val_accuracy: 0.9317\n",
            "Epoch 54/200\n",
            "50/50 [==============================] - 12s 240ms/step - loss: 0.0387 - accuracy: 0.9881 - val_loss: 0.1385 - val_accuracy: 0.9707\n",
            "Epoch 55/200\n",
            "50/50 [==============================] - 12s 239ms/step - loss: 0.0391 - accuracy: 0.9912 - val_loss: 0.2336 - val_accuracy: 0.9512\n",
            "Epoch 56/200\n",
            "50/50 [==============================] - 12s 241ms/step - loss: 0.0406 - accuracy: 0.9875 - val_loss: 0.6638 - val_accuracy: 0.8854\n",
            "Epoch 57/200\n",
            "50/50 [==============================] - 12s 241ms/step - loss: 0.0550 - accuracy: 0.9875 - val_loss: 0.3078 - val_accuracy: 0.9390\n",
            "Epoch 58/200\n",
            "50/50 [==============================] - 12s 241ms/step - loss: 0.1365 - accuracy: 0.9725 - val_loss: 0.2495 - val_accuracy: 0.9244\n",
            "Epoch 59/200\n",
            "50/50 [==============================] - 12s 241ms/step - loss: 0.0698 - accuracy: 0.9819 - val_loss: 0.2215 - val_accuracy: 0.9366\n",
            "Epoch 60/200\n",
            "50/50 [==============================] - 12s 239ms/step - loss: 0.0944 - accuracy: 0.9781 - val_loss: 0.1914 - val_accuracy: 0.9463\n",
            "Epoch 61/200\n",
            "50/50 [==============================] - 12s 243ms/step - loss: 0.0292 - accuracy: 0.9944 - val_loss: 0.3054 - val_accuracy: 0.9390\n",
            "Epoch 62/200\n",
            "50/50 [==============================] - 12s 244ms/step - loss: 0.0503 - accuracy: 0.9931 - val_loss: 0.2007 - val_accuracy: 0.9537\n",
            "Epoch 63/200\n",
            "50/50 [==============================] - 12s 244ms/step - loss: 0.0314 - accuracy: 0.9931 - val_loss: 0.1808 - val_accuracy: 0.9585\n",
            "Epoch 64/200\n",
            "50/50 [==============================] - 12s 245ms/step - loss: 0.0178 - accuracy: 0.9956 - val_loss: 0.1968 - val_accuracy: 0.9512\n",
            "Epoch 65/200\n",
            "50/50 [==============================] - 12s 243ms/step - loss: 0.0175 - accuracy: 0.9956 - val_loss: 0.3006 - val_accuracy: 0.9439\n",
            "Epoch 66/200\n",
            "50/50 [==============================] - 12s 240ms/step - loss: 0.0509 - accuracy: 0.9869 - val_loss: 0.2824 - val_accuracy: 0.9366\n",
            "Epoch 67/200\n",
            "50/50 [==============================] - 12s 238ms/step - loss: 0.0449 - accuracy: 0.9875 - val_loss: 0.2923 - val_accuracy: 0.9439\n",
            "Epoch 68/200\n",
            "50/50 [==============================] - 12s 239ms/step - loss: 0.0569 - accuracy: 0.9881 - val_loss: 0.3020 - val_accuracy: 0.9512\n",
            "Epoch 69/200\n",
            "50/50 [==============================] - 12s 240ms/step - loss: 0.0401 - accuracy: 0.9919 - val_loss: 0.3891 - val_accuracy: 0.9317\n",
            "Epoch 70/200\n",
            "50/50 [==============================] - 12s 238ms/step - loss: 0.0658 - accuracy: 0.9844 - val_loss: 0.1845 - val_accuracy: 0.9537\n",
            "Epoch 71/200\n",
            "50/50 [==============================] - 12s 243ms/step - loss: 0.0097 - accuracy: 0.9981 - val_loss: 0.2987 - val_accuracy: 0.9463\n",
            "Epoch 72/200\n",
            "50/50 [==============================] - 12s 247ms/step - loss: 0.0135 - accuracy: 0.9956 - val_loss: 0.2861 - val_accuracy: 0.9317\n",
            "Epoch 73/200\n",
            "50/50 [==============================] - 12s 247ms/step - loss: 0.0297 - accuracy: 0.9906 - val_loss: 0.2271 - val_accuracy: 0.9439\n",
            "Epoch 74/200\n",
            "50/50 [==============================] - 12s 247ms/step - loss: 0.0442 - accuracy: 0.9944 - val_loss: 0.3535 - val_accuracy: 0.9341\n",
            "Epoch 75/200\n",
            "50/50 [==============================] - 12s 242ms/step - loss: 0.0572 - accuracy: 0.9862 - val_loss: 0.2601 - val_accuracy: 0.9366\n",
            "Epoch 76/200\n",
            "50/50 [==============================] - 12s 241ms/step - loss: 0.0368 - accuracy: 0.9912 - val_loss: 0.3291 - val_accuracy: 0.9366\n",
            "Epoch 77/200\n",
            "50/50 [==============================] - 12s 240ms/step - loss: 0.0508 - accuracy: 0.9856 - val_loss: 0.5181 - val_accuracy: 0.9244\n",
            "Epoch 78/200\n",
            "50/50 [==============================] - 12s 242ms/step - loss: 0.0569 - accuracy: 0.9856 - val_loss: 0.2083 - val_accuracy: 0.9512\n",
            "Epoch 79/200\n",
            "50/50 [==============================] - 12s 239ms/step - loss: 0.0389 - accuracy: 0.9900 - val_loss: 0.2073 - val_accuracy: 0.9610\n",
            "Epoch 80/200\n",
            "50/50 [==============================] - 12s 239ms/step - loss: 0.0237 - accuracy: 0.9956 - val_loss: 0.2799 - val_accuracy: 0.9463\n",
            "Epoch 81/200\n",
            "50/50 [==============================] - 12s 239ms/step - loss: 0.0136 - accuracy: 0.9975 - val_loss: 0.2233 - val_accuracy: 0.9634\n",
            "Epoch 82/200\n",
            "50/50 [==============================] - 12s 240ms/step - loss: 0.0154 - accuracy: 0.9962 - val_loss: 0.2970 - val_accuracy: 0.9561\n",
            "Epoch 83/200\n",
            "50/50 [==============================] - 12s 239ms/step - loss: 0.0111 - accuracy: 0.9969 - val_loss: 0.2024 - val_accuracy: 0.9585\n",
            "Epoch 84/200\n",
            "50/50 [==============================] - 12s 239ms/step - loss: 0.0157 - accuracy: 0.9969 - val_loss: 0.2364 - val_accuracy: 0.9488\n",
            "Epoch 85/200\n",
            "50/50 [==============================] - 12s 240ms/step - loss: 0.0142 - accuracy: 0.9969 - val_loss: 0.3260 - val_accuracy: 0.9463\n",
            "Epoch 86/200\n",
            "50/50 [==============================] - 12s 239ms/step - loss: 0.0972 - accuracy: 0.9781 - val_loss: 0.2103 - val_accuracy: 0.9488\n",
            "Epoch 87/200\n",
            "50/50 [==============================] - 12s 237ms/step - loss: 0.0661 - accuracy: 0.9856 - val_loss: 0.3441 - val_accuracy: 0.9171\n",
            "Epoch 88/200\n",
            "50/50 [==============================] - 12s 248ms/step - loss: 0.0372 - accuracy: 0.9931 - val_loss: 0.1917 - val_accuracy: 0.9585\n",
            "Epoch 89/200\n",
            "50/50 [==============================] - 13s 250ms/step - loss: 0.0367 - accuracy: 0.9900 - val_loss: 0.3449 - val_accuracy: 0.9390\n",
            "Epoch 90/200\n",
            "50/50 [==============================] - 13s 251ms/step - loss: 0.0511 - accuracy: 0.9912 - val_loss: 0.1951 - val_accuracy: 0.9512\n",
            "Epoch 91/200\n",
            "50/50 [==============================] - 12s 248ms/step - loss: 0.0353 - accuracy: 0.9937 - val_loss: 0.1918 - val_accuracy: 0.9415\n",
            "Epoch 92/200\n",
            "50/50 [==============================] - 12s 245ms/step - loss: 0.0870 - accuracy: 0.9837 - val_loss: 0.3077 - val_accuracy: 0.9366\n",
            "Epoch 93/200\n",
            "50/50 [==============================] - 12s 241ms/step - loss: 0.0399 - accuracy: 0.9912 - val_loss: 0.1845 - val_accuracy: 0.9610\n",
            "Epoch 94/200\n",
            "50/50 [==============================] - 12s 241ms/step - loss: 0.0181 - accuracy: 0.9962 - val_loss: 0.3036 - val_accuracy: 0.9488\n",
            "Epoch 95/200\n",
            "50/50 [==============================] - 12s 238ms/step - loss: 0.0577 - accuracy: 0.9906 - val_loss: 0.2231 - val_accuracy: 0.9585\n",
            "Epoch 96/200\n",
            "50/50 [==============================] - 12s 239ms/step - loss: 0.0279 - accuracy: 0.9950 - val_loss: 0.2768 - val_accuracy: 0.9512\n",
            "Epoch 97/200\n",
            "50/50 [==============================] - 12s 240ms/step - loss: 0.0485 - accuracy: 0.9887 - val_loss: 0.2693 - val_accuracy: 0.9439\n",
            "Epoch 98/200\n",
            "50/50 [==============================] - 12s 239ms/step - loss: 0.0922 - accuracy: 0.9831 - val_loss: 0.3499 - val_accuracy: 0.9293\n",
            "Epoch 99/200\n",
            "50/50 [==============================] - 12s 238ms/step - loss: 0.0696 - accuracy: 0.9900 - val_loss: 0.2076 - val_accuracy: 0.9439\n",
            "Epoch 100/200\n",
            "50/50 [==============================] - ETA: 0s - loss: 0.0504 - accuracy: 0.9869\n",
            "Epoch 00100: saving model to training_2/cp-0100.ckpt\n",
            "50/50 [==============================] - 13s 262ms/step - loss: 0.0504 - accuracy: 0.9869 - val_loss: 0.4335 - val_accuracy: 0.9268\n",
            "Epoch 101/200\n",
            "50/50 [==============================] - 12s 240ms/step - loss: 0.0312 - accuracy: 0.9900 - val_loss: 0.2333 - val_accuracy: 0.9488\n",
            "Epoch 102/200\n",
            "50/50 [==============================] - 12s 242ms/step - loss: 0.0117 - accuracy: 0.9981 - val_loss: 0.2924 - val_accuracy: 0.9488\n",
            "Epoch 103/200\n",
            "50/50 [==============================] - 12s 241ms/step - loss: 0.0414 - accuracy: 0.9950 - val_loss: 0.2057 - val_accuracy: 0.9537\n",
            "Epoch 104/200\n",
            "50/50 [==============================] - 12s 248ms/step - loss: 0.0216 - accuracy: 0.9950 - val_loss: 0.1974 - val_accuracy: 0.9512\n",
            "Epoch 105/200\n",
            "50/50 [==============================] - 12s 243ms/step - loss: 0.0143 - accuracy: 0.9962 - val_loss: 0.3111 - val_accuracy: 0.9439\n",
            "Epoch 106/200\n",
            "50/50 [==============================] - 12s 242ms/step - loss: 0.0476 - accuracy: 0.9887 - val_loss: 0.2086 - val_accuracy: 0.9439\n",
            "Epoch 107/200\n",
            "50/50 [==============================] - 12s 240ms/step - loss: 0.0421 - accuracy: 0.9925 - val_loss: 0.7932 - val_accuracy: 0.8634\n",
            "Epoch 108/200\n",
            "50/50 [==============================] - 12s 243ms/step - loss: 0.0576 - accuracy: 0.9881 - val_loss: 0.3298 - val_accuracy: 0.9293\n",
            "Epoch 109/200\n",
            "50/50 [==============================] - 12s 242ms/step - loss: 0.0344 - accuracy: 0.9900 - val_loss: 0.2226 - val_accuracy: 0.9537\n",
            "Epoch 110/200\n",
            "50/50 [==============================] - 12s 241ms/step - loss: 0.1443 - accuracy: 0.9737 - val_loss: 0.3534 - val_accuracy: 0.9098\n",
            "Epoch 111/200\n",
            "50/50 [==============================] - 12s 240ms/step - loss: 0.0361 - accuracy: 0.9887 - val_loss: 0.2696 - val_accuracy: 0.9268\n",
            "Epoch 112/200\n",
            "50/50 [==============================] - 12s 243ms/step - loss: 0.0792 - accuracy: 0.9837 - val_loss: 0.3361 - val_accuracy: 0.9293\n",
            "Epoch 113/200\n",
            "50/50 [==============================] - 12s 242ms/step - loss: 0.1059 - accuracy: 0.9781 - val_loss: 0.3866 - val_accuracy: 0.9463\n",
            "Epoch 114/200\n",
            "50/50 [==============================] - 12s 241ms/step - loss: 0.0277 - accuracy: 0.9931 - val_loss: 0.2453 - val_accuracy: 0.9463\n",
            "Epoch 115/200\n",
            "50/50 [==============================] - 12s 241ms/step - loss: 0.0461 - accuracy: 0.9931 - val_loss: 0.1493 - val_accuracy: 0.9512\n",
            "Epoch 116/200\n",
            "50/50 [==============================] - 12s 243ms/step - loss: 0.0707 - accuracy: 0.9812 - val_loss: 0.2897 - val_accuracy: 0.9512\n",
            "Epoch 117/200\n",
            "50/50 [==============================] - 12s 243ms/step - loss: 0.0306 - accuracy: 0.9950 - val_loss: 0.1622 - val_accuracy: 0.9634\n",
            "Epoch 118/200\n",
            "50/50 [==============================] - 12s 242ms/step - loss: 0.0420 - accuracy: 0.9937 - val_loss: 0.2268 - val_accuracy: 0.9463\n",
            "Epoch 119/200\n",
            "50/50 [==============================] - 12s 240ms/step - loss: 0.0353 - accuracy: 0.9919 - val_loss: 0.3405 - val_accuracy: 0.9439\n",
            "Epoch 120/200\n",
            "50/50 [==============================] - 12s 243ms/step - loss: 0.0627 - accuracy: 0.9912 - val_loss: 0.2043 - val_accuracy: 0.9512\n",
            "Epoch 121/200\n",
            "50/50 [==============================] - 12s 242ms/step - loss: 0.0178 - accuracy: 0.9944 - val_loss: 0.2895 - val_accuracy: 0.9439\n",
            "Epoch 122/200\n",
            "50/50 [==============================] - 12s 241ms/step - loss: 0.0154 - accuracy: 0.9962 - val_loss: 0.3834 - val_accuracy: 0.9317\n",
            "Epoch 123/200\n",
            "50/50 [==============================] - 12s 241ms/step - loss: 0.0824 - accuracy: 0.9881 - val_loss: 0.3994 - val_accuracy: 0.9122\n",
            "Epoch 124/200\n",
            "50/50 [==============================] - 12s 243ms/step - loss: 0.0521 - accuracy: 0.9894 - val_loss: 0.8355 - val_accuracy: 0.9073\n",
            "Epoch 125/200\n",
            "50/50 [==============================] - 12s 242ms/step - loss: 0.0600 - accuracy: 0.9881 - val_loss: 0.3729 - val_accuracy: 0.9317\n",
            "Epoch 126/200\n",
            "50/50 [==============================] - 12s 242ms/step - loss: 0.0438 - accuracy: 0.9894 - val_loss: 0.3030 - val_accuracy: 0.9366\n",
            "Epoch 127/200\n",
            "50/50 [==============================] - 12s 240ms/step - loss: 0.0311 - accuracy: 0.9962 - val_loss: 0.2282 - val_accuracy: 0.9561\n",
            "Epoch 128/200\n",
            "50/50 [==============================] - 12s 244ms/step - loss: 0.0180 - accuracy: 0.9969 - val_loss: 0.2226 - val_accuracy: 0.9610\n",
            "Epoch 129/200\n",
            "50/50 [==============================] - 12s 246ms/step - loss: 0.0079 - accuracy: 0.9981 - val_loss: 0.3086 - val_accuracy: 0.9561\n",
            "Epoch 130/200\n",
            "50/50 [==============================] - 12s 242ms/step - loss: 0.0482 - accuracy: 0.9894 - val_loss: 0.2958 - val_accuracy: 0.9439\n",
            "Epoch 131/200\n",
            "50/50 [==============================] - 12s 241ms/step - loss: 0.0153 - accuracy: 0.9962 - val_loss: 0.2169 - val_accuracy: 0.9488\n",
            "Epoch 132/200\n",
            "50/50 [==============================] - 12s 243ms/step - loss: 0.0042 - accuracy: 0.9994 - val_loss: 0.2152 - val_accuracy: 0.9561\n",
            "Epoch 133/200\n",
            "50/50 [==============================] - 12s 243ms/step - loss: 0.0046 - accuracy: 0.9987 - val_loss: 0.2830 - val_accuracy: 0.9561\n",
            "Epoch 134/200\n",
            "50/50 [==============================] - 12s 241ms/step - loss: 0.0129 - accuracy: 0.9975 - val_loss: 0.2485 - val_accuracy: 0.9610\n",
            "Epoch 135/200\n",
            "50/50 [==============================] - 12s 240ms/step - loss: 0.0179 - accuracy: 0.9962 - val_loss: 0.2885 - val_accuracy: 0.9512\n",
            "Epoch 136/200\n",
            "50/50 [==============================] - 12s 242ms/step - loss: 0.0308 - accuracy: 0.9931 - val_loss: 0.4347 - val_accuracy: 0.9317\n",
            "Epoch 137/200\n",
            "50/50 [==============================] - 12s 242ms/step - loss: 0.0505 - accuracy: 0.9887 - val_loss: 0.3924 - val_accuracy: 0.9390\n",
            "Epoch 138/200\n",
            "50/50 [==============================] - 12s 241ms/step - loss: 0.0324 - accuracy: 0.9937 - val_loss: 0.4879 - val_accuracy: 0.9390\n",
            "Epoch 139/200\n",
            "50/50 [==============================] - 12s 240ms/step - loss: 0.0415 - accuracy: 0.9906 - val_loss: 0.3634 - val_accuracy: 0.9366\n",
            "Epoch 140/200\n",
            "50/50 [==============================] - 12s 243ms/step - loss: 0.0181 - accuracy: 0.9937 - val_loss: 0.3292 - val_accuracy: 0.9415\n",
            "Epoch 141/200\n",
            "50/50 [==============================] - 12s 243ms/step - loss: 0.0280 - accuracy: 0.9956 - val_loss: 0.3008 - val_accuracy: 0.9488\n",
            "Epoch 142/200\n",
            "50/50 [==============================] - 12s 242ms/step - loss: 0.0697 - accuracy: 0.9850 - val_loss: 0.2454 - val_accuracy: 0.9439\n",
            "Epoch 143/200\n",
            "50/50 [==============================] - 12s 240ms/step - loss: 0.0101 - accuracy: 0.9981 - val_loss: 0.2853 - val_accuracy: 0.9537\n",
            "Epoch 144/200\n",
            "50/50 [==============================] - 12s 244ms/step - loss: 0.0299 - accuracy: 0.9912 - val_loss: 0.2417 - val_accuracy: 0.9488\n",
            "Epoch 145/200\n",
            "50/50 [==============================] - 12s 242ms/step - loss: 0.0050 - accuracy: 0.9994 - val_loss: 0.2231 - val_accuracy: 0.9512\n",
            "Epoch 146/200\n",
            "50/50 [==============================] - 12s 242ms/step - loss: 0.0033 - accuracy: 0.9994 - val_loss: 0.2207 - val_accuracy: 0.9537\n",
            "Epoch 147/200\n",
            "50/50 [==============================] - 12s 241ms/step - loss: 0.0011 - accuracy: 1.0000 - val_loss: 0.2306 - val_accuracy: 0.9561\n",
            "Epoch 148/200\n",
            "50/50 [==============================] - 12s 243ms/step - loss: 0.0016 - accuracy: 0.9994 - val_loss: 0.2852 - val_accuracy: 0.9512\n",
            "Epoch 149/200\n",
            "50/50 [==============================] - 12s 243ms/step - loss: 0.0280 - accuracy: 0.9969 - val_loss: 0.3726 - val_accuracy: 0.9390\n",
            "Epoch 150/200\n",
            "50/50 [==============================] - 12s 241ms/step - loss: 0.0170 - accuracy: 0.9950 - val_loss: 0.3412 - val_accuracy: 0.9488\n",
            "Epoch 151/200\n",
            "50/50 [==============================] - 12s 240ms/step - loss: 0.0200 - accuracy: 0.9969 - val_loss: 0.4306 - val_accuracy: 0.9341\n",
            "Epoch 152/200\n",
            "50/50 [==============================] - 12s 243ms/step - loss: 0.0444 - accuracy: 0.9919 - val_loss: 0.4537 - val_accuracy: 0.9390\n",
            "Epoch 153/200\n",
            "50/50 [==============================] - 12s 242ms/step - loss: 0.0622 - accuracy: 0.9869 - val_loss: 0.2708 - val_accuracy: 0.9439\n",
            "Epoch 154/200\n",
            "50/50 [==============================] - 12s 241ms/step - loss: 0.0364 - accuracy: 0.9925 - val_loss: 0.2651 - val_accuracy: 0.9512\n",
            "Epoch 155/200\n",
            "50/50 [==============================] - 12s 244ms/step - loss: 0.0080 - accuracy: 0.9975 - val_loss: 0.3015 - val_accuracy: 0.9537\n",
            "Epoch 156/200\n",
            "50/50 [==============================] - 12s 243ms/step - loss: 0.0181 - accuracy: 0.9956 - val_loss: 0.2933 - val_accuracy: 0.9439\n",
            "Epoch 157/200\n",
            "50/50 [==============================] - 12s 244ms/step - loss: 0.0468 - accuracy: 0.9900 - val_loss: 0.3476 - val_accuracy: 0.9390\n",
            "Epoch 158/200\n",
            "50/50 [==============================] - 12s 242ms/step - loss: 0.0138 - accuracy: 0.9962 - val_loss: 0.3805 - val_accuracy: 0.9439\n",
            "Epoch 159/200\n",
            "50/50 [==============================] - 12s 240ms/step - loss: 0.0449 - accuracy: 0.9937 - val_loss: 0.2655 - val_accuracy: 0.9488\n",
            "Epoch 160/200\n",
            "50/50 [==============================] - 12s 243ms/step - loss: 0.0185 - accuracy: 0.9962 - val_loss: 0.2704 - val_accuracy: 0.9415\n",
            "Epoch 161/200\n",
            "50/50 [==============================] - 12s 243ms/step - loss: 0.0510 - accuracy: 0.9931 - val_loss: 0.2888 - val_accuracy: 0.9439\n",
            "Epoch 162/200\n",
            "50/50 [==============================] - 12s 242ms/step - loss: 0.0269 - accuracy: 0.9969 - val_loss: 0.2808 - val_accuracy: 0.9488\n",
            "Epoch 163/200\n",
            "50/50 [==============================] - 12s 240ms/step - loss: 0.0250 - accuracy: 0.9950 - val_loss: 0.3336 - val_accuracy: 0.9390\n",
            "Epoch 164/200\n",
            "50/50 [==============================] - 12s 243ms/step - loss: 0.0226 - accuracy: 0.9956 - val_loss: 0.4966 - val_accuracy: 0.9293\n",
            "Epoch 165/200\n",
            "50/50 [==============================] - 12s 242ms/step - loss: 0.0537 - accuracy: 0.9906 - val_loss: 0.3192 - val_accuracy: 0.9488\n",
            "Epoch 166/200\n",
            "50/50 [==============================] - 12s 243ms/step - loss: 0.0255 - accuracy: 0.9969 - val_loss: 0.4978 - val_accuracy: 0.9268\n",
            "Epoch 167/200\n",
            "50/50 [==============================] - 12s 240ms/step - loss: 0.0283 - accuracy: 0.9912 - val_loss: 0.3250 - val_accuracy: 0.9463\n",
            "Epoch 168/200\n",
            "50/50 [==============================] - 12s 243ms/step - loss: 0.0238 - accuracy: 0.9956 - val_loss: 0.3740 - val_accuracy: 0.9390\n",
            "Epoch 169/200\n",
            "50/50 [==============================] - 12s 243ms/step - loss: 0.0011 - accuracy: 1.0000 - val_loss: 0.3601 - val_accuracy: 0.9439\n",
            "Epoch 170/200\n",
            "50/50 [==============================] - 12s 242ms/step - loss: 0.0157 - accuracy: 0.9975 - val_loss: 0.3248 - val_accuracy: 0.9390\n",
            "Epoch 171/200\n",
            "50/50 [==============================] - 12s 238ms/step - loss: 0.0207 - accuracy: 0.9956 - val_loss: 0.3774 - val_accuracy: 0.9512\n",
            "Epoch 172/200\n",
            "50/50 [==============================] - 12s 241ms/step - loss: 0.0024 - accuracy: 0.9994 - val_loss: 0.3913 - val_accuracy: 0.9512\n",
            "Epoch 173/200\n",
            "50/50 [==============================] - 12s 240ms/step - loss: 0.0120 - accuracy: 0.9969 - val_loss: 0.4877 - val_accuracy: 0.9390\n",
            "Epoch 174/200\n",
            "50/50 [==============================] - 12s 239ms/step - loss: 0.0310 - accuracy: 0.9919 - val_loss: 0.3669 - val_accuracy: 0.9537\n",
            "Epoch 175/200\n",
            "50/50 [==============================] - 12s 240ms/step - loss: 0.0092 - accuracy: 0.9975 - val_loss: 0.3098 - val_accuracy: 0.9488\n",
            "Epoch 176/200\n",
            "50/50 [==============================] - 12s 243ms/step - loss: 0.0225 - accuracy: 0.9956 - val_loss: 0.4149 - val_accuracy: 0.9366\n",
            "Epoch 177/200\n",
            "50/50 [==============================] - 12s 243ms/step - loss: 0.0052 - accuracy: 0.9987 - val_loss: 0.3283 - val_accuracy: 0.9439\n",
            "Epoch 178/200\n",
            "50/50 [==============================] - 12s 242ms/step - loss: 0.0221 - accuracy: 0.9962 - val_loss: 0.3950 - val_accuracy: 0.9366\n",
            "Epoch 179/200\n",
            "50/50 [==============================] - 12s 241ms/step - loss: 0.0412 - accuracy: 0.9894 - val_loss: 0.2422 - val_accuracy: 0.9366\n",
            "Epoch 180/200\n",
            "50/50 [==============================] - 12s 246ms/step - loss: 0.0472 - accuracy: 0.9962 - val_loss: 0.3133 - val_accuracy: 0.9463\n",
            "Epoch 181/200\n",
            "50/50 [==============================] - 12s 243ms/step - loss: 0.0329 - accuracy: 0.9931 - val_loss: 0.2897 - val_accuracy: 0.9415\n",
            "Epoch 182/200\n",
            "50/50 [==============================] - 12s 242ms/step - loss: 0.1063 - accuracy: 0.9812 - val_loss: 0.2313 - val_accuracy: 0.9415\n",
            "Epoch 183/200\n",
            "50/50 [==============================] - 12s 241ms/step - loss: 0.0689 - accuracy: 0.9894 - val_loss: 0.4047 - val_accuracy: 0.9244\n",
            "Epoch 184/200\n",
            "50/50 [==============================] - 12s 242ms/step - loss: 0.0664 - accuracy: 0.9900 - val_loss: 0.3901 - val_accuracy: 0.9195\n",
            "Epoch 185/200\n",
            "50/50 [==============================] - 12s 243ms/step - loss: 0.0642 - accuracy: 0.9862 - val_loss: 0.3805 - val_accuracy: 0.9268\n",
            "Epoch 186/200\n",
            "50/50 [==============================] - 12s 243ms/step - loss: 0.0172 - accuracy: 0.9950 - val_loss: 0.3888 - val_accuracy: 0.9146\n",
            "Epoch 187/200\n",
            "50/50 [==============================] - 12s 240ms/step - loss: 0.0483 - accuracy: 0.9869 - val_loss: 0.3452 - val_accuracy: 0.9415\n",
            "Epoch 188/200\n",
            "50/50 [==============================] - 12s 243ms/step - loss: 0.0453 - accuracy: 0.9887 - val_loss: 0.2733 - val_accuracy: 0.9415\n",
            "Epoch 189/200\n",
            "50/50 [==============================] - 12s 242ms/step - loss: 0.0116 - accuracy: 0.9956 - val_loss: 0.2957 - val_accuracy: 0.9512\n",
            "Epoch 190/200\n",
            "50/50 [==============================] - 12s 241ms/step - loss: 0.0332 - accuracy: 0.9937 - val_loss: 0.2333 - val_accuracy: 0.9512\n",
            "Epoch 191/200\n",
            "50/50 [==============================] - 12s 240ms/step - loss: 0.0115 - accuracy: 0.9987 - val_loss: 0.5305 - val_accuracy: 0.9366\n",
            "Epoch 192/200\n",
            "50/50 [==============================] - 12s 242ms/step - loss: 0.0183 - accuracy: 0.9975 - val_loss: 0.3235 - val_accuracy: 0.9512\n",
            "Epoch 193/200\n",
            "50/50 [==============================] - 12s 242ms/step - loss: 0.0199 - accuracy: 0.9962 - val_loss: 0.2938 - val_accuracy: 0.9390\n",
            "Epoch 194/200\n",
            "50/50 [==============================] - 12s 242ms/step - loss: 0.0045 - accuracy: 0.9994 - val_loss: 0.2039 - val_accuracy: 0.9537\n",
            "Epoch 195/200\n",
            "50/50 [==============================] - 12s 241ms/step - loss: 0.0183 - accuracy: 0.9962 - val_loss: 0.3024 - val_accuracy: 0.9439\n",
            "Epoch 196/200\n",
            "50/50 [==============================] - 12s 243ms/step - loss: 0.0050 - accuracy: 0.9981 - val_loss: 0.2646 - val_accuracy: 0.9561\n",
            "Epoch 197/200\n",
            "50/50 [==============================] - 12s 243ms/step - loss: 0.0673 - accuracy: 0.9856 - val_loss: 0.6628 - val_accuracy: 0.9049\n",
            "Epoch 198/200\n",
            "50/50 [==============================] - 12s 247ms/step - loss: 0.0450 - accuracy: 0.9912 - val_loss: 0.2704 - val_accuracy: 0.9439\n",
            "Epoch 199/200\n",
            "50/50 [==============================] - 12s 249ms/step - loss: 0.0121 - accuracy: 0.9975 - val_loss: 0.2115 - val_accuracy: 0.9488\n",
            "Epoch 200/200\n",
            "50/50 [==============================] - ETA: 0s - loss: 0.0201 - accuracy: 0.9962\n",
            "Epoch 00200: saving model to training_2/cp-0200.ckpt\n",
            "50/50 [==============================] - 14s 270ms/step - loss: 0.0201 - accuracy: 0.9962 - val_loss: 0.2364 - val_accuracy: 0.9488\n",
            "\n",
            " model_ResNet50 took 2457.01 seconds (41.0 minutes) to train for 200 epochs\n"
          ],
          "name": "stdout"
        }
      ]
    },
    {
      "cell_type": "code",
      "metadata": {
        "id": "IdQTZlRIri2_"
      },
      "source": [
        "!mkdir save_model\n",
        "model_resnet.save_weights('save_model/model-resnet50(200epochs).h5')"
      ],
      "execution_count": 16,
      "outputs": []
    },
    {
      "cell_type": "code",
      "metadata": {
        "id": "CDZYt_KMD-uY",
        "outputId": "33fd94a3-0efe-4a82-e632-35e2dbd113e1",
        "colab": {
          "base_uri": "https://localhost:8080/",
          "height": 34
        }
      },
      "source": [
        "model_resnet.history.history.keys()"
      ],
      "execution_count": 48,
      "outputs": [
        {
          "output_type": "execute_result",
          "data": {
            "text/plain": [
              "dict_keys([])"
            ]
          },
          "metadata": {
            "tags": []
          },
          "execution_count": 48
        }
      ]
    },
    {
      "cell_type": "code",
      "metadata": {
        "id": "3ShicU5HozNr",
        "outputId": "32b776e4-36c4-48e6-dca6-13ef9adb000e",
        "colab": {
          "base_uri": "https://localhost:8080/",
          "height": 229
        }
      },
      "source": [
        "#กราฟเเม่นยำเเละ loss\n",
        "import matplotlib.pyplot as plt\n",
        "\n",
        "acc = model_resnet.history.history['accuracy']\n",
        "val_acc = model_resnet.history.history['val_accuracy']\n",
        "\n",
        "loss= model_resnet.history.history['loss']\n",
        "val_loss= model_resnet.history.history['val_loss']\n",
        "\n",
        "\n",
        "plt.style.use(\"ggplot\")\n",
        "#  \"Accuracy\"\n",
        "plt.figure(figsize=(15, 4))\n",
        "plt.subplot(1, 2, 1)\n",
        "plt.plot(acc, label='Training Accuracy')\n",
        "plt.plot(val_acc, label='Validation Accuracy')\n",
        "plt.legend(loc='lower right')\n",
        "plt.title('Training and Validation Accuracy')\n",
        "plt.ylabel('accuracy')\n",
        "plt.xlabel('epochs')\n",
        "#  \"Loss\"\n",
        "plt.subplot(1, 2, 2)\n",
        "plt.plot(loss, label='Training Loss')\n",
        "plt.plot(val_loss, label='Validation Loss')\n",
        "plt.legend(loc='upper right')\n",
        "plt.title('Training and Validation Loss')\n",
        "plt.ylabel('loss')\n",
        "plt.xlabel('epochs')\n",
        "plt.show()\n",
        "# plt.savefig('accandloss.png')"
      ],
      "execution_count": 49,
      "outputs": [
        {
          "output_type": "error",
          "ename": "KeyError",
          "evalue": "ignored",
          "traceback": [
            "\u001b[0;31m---------------------------------------------------------------------------\u001b[0m",
            "\u001b[0;31mKeyError\u001b[0m                                  Traceback (most recent call last)",
            "\u001b[0;32m<ipython-input-49-dc4c2d54d722>\u001b[0m in \u001b[0;36m<module>\u001b[0;34m()\u001b[0m\n\u001b[1;32m      2\u001b[0m \u001b[0;32mimport\u001b[0m \u001b[0mmatplotlib\u001b[0m\u001b[0;34m.\u001b[0m\u001b[0mpyplot\u001b[0m \u001b[0;32mas\u001b[0m \u001b[0mplt\u001b[0m\u001b[0;34m\u001b[0m\u001b[0;34m\u001b[0m\u001b[0m\n\u001b[1;32m      3\u001b[0m \u001b[0;34m\u001b[0m\u001b[0m\n\u001b[0;32m----> 4\u001b[0;31m \u001b[0macc\u001b[0m \u001b[0;34m=\u001b[0m \u001b[0mmodel_resnet\u001b[0m\u001b[0;34m.\u001b[0m\u001b[0mhistory\u001b[0m\u001b[0;34m.\u001b[0m\u001b[0mhistory\u001b[0m\u001b[0;34m[\u001b[0m\u001b[0;34m'accuracy'\u001b[0m\u001b[0;34m]\u001b[0m\u001b[0;34m\u001b[0m\u001b[0;34m\u001b[0m\u001b[0m\n\u001b[0m\u001b[1;32m      5\u001b[0m \u001b[0mval_acc\u001b[0m \u001b[0;34m=\u001b[0m \u001b[0mmodel_resnet\u001b[0m\u001b[0;34m.\u001b[0m\u001b[0mhistory\u001b[0m\u001b[0;34m.\u001b[0m\u001b[0mhistory\u001b[0m\u001b[0;34m[\u001b[0m\u001b[0;34m'val_accuracy'\u001b[0m\u001b[0;34m]\u001b[0m\u001b[0;34m\u001b[0m\u001b[0;34m\u001b[0m\u001b[0m\n\u001b[1;32m      6\u001b[0m \u001b[0;34m\u001b[0m\u001b[0m\n",
            "\u001b[0;31mKeyError\u001b[0m: 'accuracy'"
          ]
        }
      ]
    },
    {
      "cell_type": "code",
      "metadata": {
        "id": "X8OmBYwQDZG5",
        "outputId": "9e8e99a3-b046-40f6-cc7e-43fdf70968ba",
        "colab": {
          "base_uri": "https://localhost:8080/",
          "height": 35
        }
      },
      "source": [
        "latest = tf.train.latest_checkpoint(checkpoint_dir)\n",
        "latest"
      ],
      "execution_count": 67,
      "outputs": [
        {
          "output_type": "execute_result",
          "data": {
            "application/vnd.google.colaboratory.intrinsic+json": {
              "type": "string"
            },
            "text/plain": [
              "'training_2/cp-0200.ckpt'"
            ]
          },
          "metadata": {
            "tags": []
          },
          "execution_count": 67
        }
      ]
    },
    {
      "cell_type": "code",
      "metadata": {
        "id": "oVwXFxjDOM9p",
        "outputId": "935ff97f-6fb7-44c0-b25b-c50091d70f7e",
        "colab": {
          "base_uri": "https://localhost:8080/",
          "height": 154
        }
      },
      "source": [
        "# Save the entire model as a SavedModel.\n",
        "model_resnet.save('saved_model/my_model') "
      ],
      "execution_count": 71,
      "outputs": [
        {
          "output_type": "stream",
          "text": [
            "WARNING:tensorflow:From /usr/local/lib/python3.6/dist-packages/tensorflow/python/training/tracking/tracking.py:111: Model.state_updates (from tensorflow.python.keras.engine.training) is deprecated and will be removed in a future version.\n",
            "Instructions for updating:\n",
            "This property should not be used in TensorFlow 2.0, as updates are applied automatically.\n",
            "WARNING:tensorflow:From /usr/local/lib/python3.6/dist-packages/tensorflow/python/training/tracking/tracking.py:111: Layer.updates (from tensorflow.python.keras.engine.base_layer) is deprecated and will be removed in a future version.\n",
            "Instructions for updating:\n",
            "This property should not be used in TensorFlow 2.0, as updates are applied automatically.\n",
            "INFO:tensorflow:Assets written to: saved_model/my_model/assets\n"
          ],
          "name": "stdout"
        }
      ]
    },
    {
      "cell_type": "code",
      "metadata": {
        "id": "vIVtmAhTObq0",
        "outputId": "c3ddb21a-0c77-4e27-bc68-3f3194cf69b5",
        "colab": {
          "base_uri": "https://localhost:8080/",
          "height": 34
        }
      },
      "source": [
        "!ls saved_model/mymodel"
      ],
      "execution_count": 72,
      "outputs": [
        {
          "output_type": "stream",
          "text": [
            "my_model\n"
          ],
          "name": "stdout"
        }
      ]
    },
    {
      "cell_type": "code",
      "metadata": {
        "id": "7mKTviqN3LN7",
        "outputId": "3af9fc56-632c-40ad-b2b8-f5630ef7d85b",
        "colab": {
          "base_uri": "https://localhost:8080/",
          "height": 50
        }
      },
      "source": [
        "# Load the previously saved weights\n",
        "model_resnet.load_weights(latest)\n",
        "\n",
        "# Re-evaluate the model\n",
        "loss, acc = model_resnet.evaluate(valid_generator, verbose=2)\n",
        "print(\"Restored model, accuracy: {:5.2f}%\".format(100*acc))"
      ],
      "execution_count": 68,
      "outputs": [
        {
          "output_type": "stream",
          "text": [
            "410/410 - 7s - loss: 0.2364 - accuracy: 0.9488\n",
            "Restored model, accuracy: 94.88%\n"
          ],
          "name": "stdout"
        }
      ]
    },
    {
      "cell_type": "code",
      "metadata": {
        "id": "K0Qdqqi6M6oP",
        "outputId": "95a0e2f5-6e9c-4acf-ffa4-e6c683f2d082",
        "colab": {
          "base_uri": "https://localhost:8080/",
          "height": 50
        }
      },
      "source": [
        "model= tf.keras.models.load_model('saved_model/my_model')\n",
        "tflite_converter = tf.lite.TFLiteConverter.from_keras_model(model)\n",
        "tflite_model = tflite_converter.convert()\n",
        "open(\"tf_lite_model.tflite\", \"wb\").write(tflite_model) "
      ],
      "execution_count": 73,
      "outputs": [
        {
          "output_type": "stream",
          "text": [
            "INFO:tensorflow:Assets written to: /tmp/tmp54fzncnj/assets\n"
          ],
          "name": "stdout"
        },
        {
          "output_type": "execute_result",
          "data": {
            "text/plain": [
              "105133220"
            ]
          },
          "metadata": {
            "tags": []
          },
          "execution_count": 73
        }
      ]
    },
    {
      "cell_type": "markdown",
      "metadata": {
        "id": "KJU_yzZjIXs9"
      },
      "source": [
        "**Prediction**"
      ]
    },
    {
      "cell_type": "code",
      "metadata": {
        "id": "dx33tH26I0cY"
      },
      "source": [
        "model_resnet.load_weights('save_model/model-resnet50(200epochs).h5')"
      ],
      "execution_count": 59,
      "outputs": []
    }
  ]
}